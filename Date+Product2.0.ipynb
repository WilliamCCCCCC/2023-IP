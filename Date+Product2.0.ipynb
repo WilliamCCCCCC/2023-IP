{
 "cells": [
  {
   "cell_type": "code",
   "execution_count": 54,
   "id": "6f5c02af",
   "metadata": {},
   "outputs": [],
   "source": [
    "import pandas as pd\n",
    "from datetime import datetime, timedelta\n",
    "from sklearn.ensemble import RandomForestClassifier\n",
    "from sklearn.preprocessing import LabelEncoder\n"
   ]
  },
  {
   "cell_type": "code",
   "execution_count": 50,
   "id": "bfff0a3f",
   "metadata": {},
   "outputs": [],
   "source": [
    "import warnings\n",
    "warnings.filterwarnings(\"ignore\")"
   ]
  },
  {
   "cell_type": "code",
   "execution_count": 42,
   "id": "471da29f",
   "metadata": {},
   "outputs": [],
   "source": [
    "df = pd.read_parquet('sample_txn_data_2022.parquet', engine='pyarrow')"
   ]
  },
  {
   "cell_type": "code",
   "execution_count": 195,
   "id": "067b03cc",
   "metadata": {},
   "outputs": [
    {
     "data": {
      "text/html": [
       "<div>\n",
       "<style scoped>\n",
       "    .dataframe tbody tr th:only-of-type {\n",
       "        vertical-align: middle;\n",
       "    }\n",
       "\n",
       "    .dataframe tbody tr th {\n",
       "        vertical-align: top;\n",
       "    }\n",
       "\n",
       "    .dataframe thead th {\n",
       "        text-align: right;\n",
       "    }\n",
       "</style>\n",
       "<table border=\"1\" class=\"dataframe\">\n",
       "  <thead>\n",
       "    <tr style=\"text-align: right;\">\n",
       "      <th></th>\n",
       "      <th>dw_gc_header</th>\n",
       "      <th>business_date</th>\n",
       "      <th>fiscal_week_end</th>\n",
       "      <th>fiscal_week</th>\n",
       "      <th>fiscal_year</th>\n",
       "      <th>daypart_name</th>\n",
       "      <th>lineitem_sequence</th>\n",
       "      <th>lineitem_seq_parent</th>\n",
       "      <th>lineitem_description</th>\n",
       "      <th>parent_product_description</th>\n",
       "      <th>...</th>\n",
       "      <th>actmodqty</th>\n",
       "      <th>actdiscqty</th>\n",
       "      <th>actprodprice</th>\n",
       "      <th>actgrosssales</th>\n",
       "      <th>actnetsales</th>\n",
       "      <th>actpromosales</th>\n",
       "      <th>actdiscsales</th>\n",
       "      <th>acttax</th>\n",
       "      <th>dw_gc_header_2</th>\n",
       "      <th>token_primary_account_identifier</th>\n",
       "    </tr>\n",
       "  </thead>\n",
       "  <tbody>\n",
       "    <tr>\n",
       "      <th>0</th>\n",
       "      <td>42188263563</td>\n",
       "      <td>2021-12-31</td>\n",
       "      <td>2022-01-04</td>\n",
       "      <td>Y2022 Q01 P01 W01</td>\n",
       "      <td>Y2022</td>\n",
       "      <td>EVENING</td>\n",
       "      <td>999</td>\n",
       "      <td>999</td>\n",
       "      <td>TAX-LINE</td>\n",
       "      <td>None</td>\n",
       "      <td>...</td>\n",
       "      <td>0.0</td>\n",
       "      <td>0</td>\n",
       "      <td>0.00</td>\n",
       "      <td>0.00</td>\n",
       "      <td>0.00</td>\n",
       "      <td>0.00</td>\n",
       "      <td>0.00</td>\n",
       "      <td>0.28</td>\n",
       "      <td>42188263563</td>\n",
       "      <td>0880344659239910</td>\n",
       "    </tr>\n",
       "    <tr>\n",
       "      <th>1</th>\n",
       "      <td>42188263563</td>\n",
       "      <td>2021-12-31</td>\n",
       "      <td>2022-01-04</td>\n",
       "      <td>Y2022 Q01 P01 W01</td>\n",
       "      <td>Y2022</td>\n",
       "      <td>EVENING</td>\n",
       "      <td>1</td>\n",
       "      <td>1</td>\n",
       "      <td>NON-COMBO-ITEM</td>\n",
       "      <td>Beefy 5-Layer Burrito</td>\n",
       "      <td>...</td>\n",
       "      <td>0.0</td>\n",
       "      <td>0</td>\n",
       "      <td>2.99</td>\n",
       "      <td>2.99</td>\n",
       "      <td>2.99</td>\n",
       "      <td>0.00</td>\n",
       "      <td>0.00</td>\n",
       "      <td>0.00</td>\n",
       "      <td>42188263563</td>\n",
       "      <td>0880344659239910</td>\n",
       "    </tr>\n",
       "    <tr>\n",
       "      <th>2</th>\n",
       "      <td>42188263563</td>\n",
       "      <td>2021-12-31</td>\n",
       "      <td>2022-01-04</td>\n",
       "      <td>Y2022 Q01 P01 W01</td>\n",
       "      <td>Y2022</td>\n",
       "      <td>EVENING</td>\n",
       "      <td>2</td>\n",
       "      <td>2</td>\n",
       "      <td>NON-COMBO-ITEM</td>\n",
       "      <td>Cheesy Bean and Rice Burrito</td>\n",
       "      <td>...</td>\n",
       "      <td>0.0</td>\n",
       "      <td>0</td>\n",
       "      <td>1.29</td>\n",
       "      <td>1.29</td>\n",
       "      <td>1.29</td>\n",
       "      <td>0.00</td>\n",
       "      <td>0.00</td>\n",
       "      <td>0.00</td>\n",
       "      <td>42188263563</td>\n",
       "      <td>0880344659239910</td>\n",
       "    </tr>\n",
       "    <tr>\n",
       "      <th>3</th>\n",
       "      <td>42201144646</td>\n",
       "      <td>2021-12-31</td>\n",
       "      <td>2022-01-04</td>\n",
       "      <td>Y2022 Q01 P01 W01</td>\n",
       "      <td>Y2022</td>\n",
       "      <td>BREAKFAST</td>\n",
       "      <td>999</td>\n",
       "      <td>999</td>\n",
       "      <td>TAX-LINE</td>\n",
       "      <td>None</td>\n",
       "      <td>...</td>\n",
       "      <td>0.0</td>\n",
       "      <td>0</td>\n",
       "      <td>0.00</td>\n",
       "      <td>0.00</td>\n",
       "      <td>0.00</td>\n",
       "      <td>0.00</td>\n",
       "      <td>0.00</td>\n",
       "      <td>0.31</td>\n",
       "      <td>42201144646</td>\n",
       "      <td>8819419820104328</td>\n",
       "    </tr>\n",
       "    <tr>\n",
       "      <th>4</th>\n",
       "      <td>42201144646</td>\n",
       "      <td>2021-12-31</td>\n",
       "      <td>2022-01-04</td>\n",
       "      <td>Y2022 Q01 P01 W01</td>\n",
       "      <td>Y2022</td>\n",
       "      <td>BREAKFAST</td>\n",
       "      <td>1</td>\n",
       "      <td>1</td>\n",
       "      <td>NON-COMBO-ITEM</td>\n",
       "      <td>Breakfast Crunchwrap - Bacon</td>\n",
       "      <td>...</td>\n",
       "      <td>0.0</td>\n",
       "      <td>0</td>\n",
       "      <td>3.49</td>\n",
       "      <td>3.49</td>\n",
       "      <td>3.49</td>\n",
       "      <td>0.00</td>\n",
       "      <td>0.00</td>\n",
       "      <td>0.00</td>\n",
       "      <td>42201144646</td>\n",
       "      <td>8819419820104328</td>\n",
       "    </tr>\n",
       "  </tbody>\n",
       "</table>\n",
       "<p>5 rows × 27 columns</p>\n",
       "</div>"
      ],
      "text/plain": [
       "  dw_gc_header business_date fiscal_week_end        fiscal_week fiscal_year  \\\n",
       "0  42188263563    2021-12-31      2022-01-04  Y2022 Q01 P01 W01       Y2022   \n",
       "1  42188263563    2021-12-31      2022-01-04  Y2022 Q01 P01 W01       Y2022   \n",
       "2  42188263563    2021-12-31      2022-01-04  Y2022 Q01 P01 W01       Y2022   \n",
       "3  42201144646    2021-12-31      2022-01-04  Y2022 Q01 P01 W01       Y2022   \n",
       "4  42201144646    2021-12-31      2022-01-04  Y2022 Q01 P01 W01       Y2022   \n",
       "\n",
       "  daypart_name lineitem_sequence lineitem_seq_parent lineitem_description  \\\n",
       "0      EVENING               999                 999             TAX-LINE   \n",
       "1      EVENING                 1                   1       NON-COMBO-ITEM   \n",
       "2      EVENING                 2                   2       NON-COMBO-ITEM   \n",
       "3    BREAKFAST               999                 999             TAX-LINE   \n",
       "4    BREAKFAST                 1                   1       NON-COMBO-ITEM   \n",
       "\n",
       "     parent_product_description  ... actmodqty actdiscqty actprodprice  \\\n",
       "0                          None  ...       0.0          0         0.00   \n",
       "1         Beefy 5-Layer Burrito  ...       0.0          0         2.99   \n",
       "2  Cheesy Bean and Rice Burrito  ...       0.0          0         1.29   \n",
       "3                          None  ...       0.0          0         0.00   \n",
       "4  Breakfast Crunchwrap - Bacon  ...       0.0          0         3.49   \n",
       "\n",
       "  actgrosssales actnetsales actpromosales actdiscsales acttax dw_gc_header_2  \\\n",
       "0          0.00        0.00          0.00         0.00   0.28    42188263563   \n",
       "1          2.99        2.99          0.00         0.00   0.00    42188263563   \n",
       "2          1.29        1.29          0.00         0.00   0.00    42188263563   \n",
       "3          0.00        0.00          0.00         0.00   0.31    42201144646   \n",
       "4          3.49        3.49          0.00         0.00   0.00    42201144646   \n",
       "\n",
       "  token_primary_account_identifier  \n",
       "0                 0880344659239910  \n",
       "1                 0880344659239910  \n",
       "2                 0880344659239910  \n",
       "3                 8819419820104328  \n",
       "4                 8819419820104328  \n",
       "\n",
       "[5 rows x 27 columns]"
      ]
     },
     "execution_count": 195,
     "metadata": {},
     "output_type": "execute_result"
    }
   ],
   "source": [
    "df.head()"
   ]
  },
  {
   "cell_type": "code",
   "execution_count": 193,
   "id": "5bc1a11a",
   "metadata": {},
   "outputs": [],
   "source": [
    "sample = df[[\"parent_product_description\",\"child_product_description\"]]"
   ]
  },
  {
   "cell_type": "code",
   "execution_count": 196,
   "id": "7cd93369",
   "metadata": {},
   "outputs": [],
   "source": [
    "sample= sample.dropna()"
   ]
  },
  {
   "cell_type": "code",
   "execution_count": 198,
   "id": "a115a93d",
   "metadata": {},
   "outputs": [
    {
     "data": {
      "text/html": [
       "<div>\n",
       "<style scoped>\n",
       "    .dataframe tbody tr th:only-of-type {\n",
       "        vertical-align: middle;\n",
       "    }\n",
       "\n",
       "    .dataframe tbody tr th {\n",
       "        vertical-align: top;\n",
       "    }\n",
       "\n",
       "    .dataframe thead th {\n",
       "        text-align: right;\n",
       "    }\n",
       "</style>\n",
       "<table border=\"1\" class=\"dataframe\">\n",
       "  <thead>\n",
       "    <tr style=\"text-align: right;\">\n",
       "      <th></th>\n",
       "      <th>parent_product_description</th>\n",
       "      <th>child_product_description</th>\n",
       "    </tr>\n",
       "  </thead>\n",
       "  <tbody>\n",
       "    <tr>\n",
       "      <th>1</th>\n",
       "      <td>Beefy 5-Layer Burrito</td>\n",
       "      <td>Beefy 5-Layer Burrito</td>\n",
       "    </tr>\n",
       "    <tr>\n",
       "      <th>2</th>\n",
       "      <td>Cheesy Bean and Rice Burrito</td>\n",
       "      <td>Cheesy Bean and Rice Burrito</td>\n",
       "    </tr>\n",
       "    <tr>\n",
       "      <th>4</th>\n",
       "      <td>Breakfast Crunchwrap - Bacon</td>\n",
       "      <td>Breakfast Crunchwrap - Bacon</td>\n",
       "    </tr>\n",
       "    <tr>\n",
       "      <th>6</th>\n",
       "      <td>Cheesy Fiesta Potatoes</td>\n",
       "      <td>Cheesy Fiesta Potatoes</td>\n",
       "    </tr>\n",
       "    <tr>\n",
       "      <th>8</th>\n",
       "      <td>Chicken Quesadilla</td>\n",
       "      <td>Chicken Quesadilla</td>\n",
       "    </tr>\n",
       "    <tr>\n",
       "      <th>...</th>\n",
       "      <td>...</td>\n",
       "      <td>...</td>\n",
       "    </tr>\n",
       "    <tr>\n",
       "      <th>115</th>\n",
       "      <td>Bean Burrito</td>\n",
       "      <td>Bean Burrito</td>\n",
       "    </tr>\n",
       "    <tr>\n",
       "      <th>116</th>\n",
       "      <td>Bean Burrito</td>\n",
       "      <td>Bean Burrito</td>\n",
       "    </tr>\n",
       "    <tr>\n",
       "      <th>117</th>\n",
       "      <td>Chalupa Supreme® - Chicken</td>\n",
       "      <td>Chalupa Supreme® - Chicken</td>\n",
       "    </tr>\n",
       "    <tr>\n",
       "      <th>118</th>\n",
       "      <td>Nachos BellGrande®</td>\n",
       "      <td>Nachos BellGrande®</td>\n",
       "    </tr>\n",
       "    <tr>\n",
       "      <th>119</th>\n",
       "      <td>Timed Test Item</td>\n",
       "      <td>Timed Test Item</td>\n",
       "    </tr>\n",
       "  </tbody>\n",
       "</table>\n",
       "<p>100 rows × 2 columns</p>\n",
       "</div>"
      ],
      "text/plain": [
       "       parent_product_description     child_product_description\n",
       "1           Beefy 5-Layer Burrito         Beefy 5-Layer Burrito\n",
       "2    Cheesy Bean and Rice Burrito  Cheesy Bean and Rice Burrito\n",
       "4    Breakfast Crunchwrap - Bacon  Breakfast Crunchwrap - Bacon\n",
       "6          Cheesy Fiesta Potatoes        Cheesy Fiesta Potatoes\n",
       "8              Chicken Quesadilla            Chicken Quesadilla\n",
       "..                            ...                           ...\n",
       "115                  Bean Burrito                  Bean Burrito\n",
       "116                  Bean Burrito                  Bean Burrito\n",
       "117    Chalupa Supreme® - Chicken    Chalupa Supreme® - Chicken\n",
       "118            Nachos BellGrande®            Nachos BellGrande®\n",
       "119               Timed Test Item               Timed Test Item\n",
       "\n",
       "[100 rows x 2 columns]"
      ]
     },
     "execution_count": 198,
     "metadata": {},
     "output_type": "execute_result"
    }
   ],
   "source": [
    "sample.head(100)"
   ]
  },
  {
   "cell_type": "code",
   "execution_count": 200,
   "id": "bc8369ae",
   "metadata": {},
   "outputs": [],
   "source": [
    "diff = sample[sample[\"parent_product_description\"]!= sample[\"child_product_description\"]]"
   ]
  },
  {
   "cell_type": "code",
   "execution_count": 201,
   "id": "738e63ee",
   "metadata": {},
   "outputs": [
    {
     "data": {
      "text/plain": [
       "592237"
      ]
     },
     "execution_count": 201,
     "metadata": {},
     "output_type": "execute_result"
    }
   ],
   "source": [
    "len(diff) ### Parent description != Child description"
   ]
  },
  {
   "cell_type": "code",
   "execution_count": null,
   "id": "2564f6a8",
   "metadata": {},
   "outputs": [],
   "source": []
  },
  {
   "cell_type": "code",
   "execution_count": null,
   "id": "d600db4c",
   "metadata": {},
   "outputs": [],
   "source": []
  },
  {
   "cell_type": "code",
   "execution_count": null,
   "id": "3431181c",
   "metadata": {},
   "outputs": [],
   "source": []
  },
  {
   "cell_type": "code",
   "execution_count": 150,
   "id": "82d6636e",
   "metadata": {},
   "outputs": [],
   "source": [
    "transactions = df[[\"business_date\",\"token_primary_account_identifier\",\"parent_product_description\"]]"
   ]
  },
  {
   "cell_type": "code",
   "execution_count": 151,
   "id": "a49f03b2",
   "metadata": {},
   "outputs": [],
   "source": [
    "transactions.rename(columns = {'business_date':'Date',\\\n",
    "                               'token_primary_account_identifier':'CustomerID',\\\n",
    "                               \"parent_product_description\":'Product'}, inplace = True)"
   ]
  },
  {
   "cell_type": "code",
   "execution_count": 152,
   "id": "06be7f74",
   "metadata": {},
   "outputs": [],
   "source": [
    "encoder = LabelEncoder()\n",
    "transactions['Product'] = encoder.fit_transform(transactions['Product'])\n",
    "\n"
   ]
  },
  {
   "cell_type": "code",
   "execution_count": 153,
   "id": "cd72dca0",
   "metadata": {},
   "outputs": [],
   "source": [
    "# preprocess data\n",
    "transactions['Date'] = pd.to_datetime(transactions['Date'])\n",
    "transactions['NextPurchaseDate'] = transactions.groupby('CustomerID')['Date'].shift(-1)\n",
    "transactions['NextPurchaseProduct'] = transactions.groupby('CustomerID')['Product'].shift(-1)\n",
    "transactions = transactions.dropna()\n",
    "\n"
   ]
  },
  {
   "cell_type": "code",
   "execution_count": 154,
   "id": "3be8acab",
   "metadata": {
    "scrolled": false
   },
   "outputs": [
    {
     "data": {
      "text/html": [
       "<div>\n",
       "<style scoped>\n",
       "    .dataframe tbody tr th:only-of-type {\n",
       "        vertical-align: middle;\n",
       "    }\n",
       "\n",
       "    .dataframe tbody tr th {\n",
       "        vertical-align: top;\n",
       "    }\n",
       "\n",
       "    .dataframe thead th {\n",
       "        text-align: right;\n",
       "    }\n",
       "</style>\n",
       "<table border=\"1\" class=\"dataframe\">\n",
       "  <thead>\n",
       "    <tr style=\"text-align: right;\">\n",
       "      <th></th>\n",
       "      <th>Date</th>\n",
       "      <th>CustomerID</th>\n",
       "      <th>Product</th>\n",
       "      <th>NextPurchaseDate</th>\n",
       "      <th>NextPurchaseProduct</th>\n",
       "    </tr>\n",
       "  </thead>\n",
       "  <tbody>\n",
       "    <tr>\n",
       "      <th>0</th>\n",
       "      <td>2021-12-31</td>\n",
       "      <td>0880344659239910</td>\n",
       "      <td>888</td>\n",
       "      <td>2021-12-31</td>\n",
       "      <td>95.0</td>\n",
       "    </tr>\n",
       "    <tr>\n",
       "      <th>1</th>\n",
       "      <td>2021-12-31</td>\n",
       "      <td>0880344659239910</td>\n",
       "      <td>95</td>\n",
       "      <td>2021-12-31</td>\n",
       "      <td>169.0</td>\n",
       "    </tr>\n",
       "    <tr>\n",
       "      <th>2</th>\n",
       "      <td>2021-12-31</td>\n",
       "      <td>0880344659239910</td>\n",
       "      <td>169</td>\n",
       "      <td>2022-01-15</td>\n",
       "      <td>888.0</td>\n",
       "    </tr>\n",
       "    <tr>\n",
       "      <th>3</th>\n",
       "      <td>2021-12-31</td>\n",
       "      <td>8819419820104328</td>\n",
       "      <td>888</td>\n",
       "      <td>2021-12-31</td>\n",
       "      <td>120.0</td>\n",
       "    </tr>\n",
       "    <tr>\n",
       "      <th>4</th>\n",
       "      <td>2021-12-31</td>\n",
       "      <td>8819419820104328</td>\n",
       "      <td>120</td>\n",
       "      <td>2022-01-21</td>\n",
       "      <td>888.0</td>\n",
       "    </tr>\n",
       "  </tbody>\n",
       "</table>\n",
       "</div>"
      ],
      "text/plain": [
       "        Date        CustomerID  Product NextPurchaseDate  NextPurchaseProduct\n",
       "0 2021-12-31  0880344659239910      888       2021-12-31                 95.0\n",
       "1 2021-12-31  0880344659239910       95       2021-12-31                169.0\n",
       "2 2021-12-31  0880344659239910      169       2022-01-15                888.0\n",
       "3 2021-12-31  8819419820104328      888       2021-12-31                120.0\n",
       "4 2021-12-31  8819419820104328      120       2022-01-21                888.0"
      ]
     },
     "execution_count": 154,
     "metadata": {},
     "output_type": "execute_result"
    }
   ],
   "source": [
    "transactions.head()"
   ]
  },
  {
   "cell_type": "code",
   "execution_count": 155,
   "id": "0a76a27b",
   "metadata": {},
   "outputs": [
    {
     "name": "stdout",
     "output_type": "stream",
     "text": [
      "<class 'pandas.core.frame.DataFrame'>\n",
      "Int64Index: 1949588 entries, 0 to 23907\n",
      "Data columns (total 5 columns):\n",
      " #   Column               Dtype         \n",
      "---  ------               -----         \n",
      " 0   Date                 datetime64[ns]\n",
      " 1   CustomerID           object        \n",
      " 2   Product              int64         \n",
      " 3   NextPurchaseDate     datetime64[ns]\n",
      " 4   NextPurchaseProduct  float64       \n",
      "dtypes: datetime64[ns](2), float64(1), int64(1), object(1)\n",
      "memory usage: 89.2+ MB\n"
     ]
    }
   ],
   "source": [
    "transactions.info()"
   ]
  },
  {
   "cell_type": "code",
   "execution_count": 156,
   "id": "6f8c7bba",
   "metadata": {},
   "outputs": [],
   "source": [
    "transactions = transactions[-8000:]"
   ]
  },
  {
   "cell_type": "code",
   "execution_count": 157,
   "id": "7d3fbd3b",
   "metadata": {
    "scrolled": false
   },
   "outputs": [
    {
     "data": {
      "text/plain": [
       "array(['8798908705029142', '8353384846088636', '0497941214069789', ...,\n",
       "       '8147774746369539', '0763647418838986', '9856133995633966'],\n",
       "      dtype=object)"
      ]
     },
     "execution_count": 157,
     "metadata": {},
     "output_type": "execute_result"
    }
   ],
   "source": [
    "transactions[\"CustomerID\"].unique()"
   ]
  },
  {
   "cell_type": "code",
   "execution_count": 158,
   "id": "34680543",
   "metadata": {},
   "outputs": [
    {
     "data": {
      "text/plain": [
       "RandomForestClassifier()"
      ]
     },
     "execution_count": 158,
     "metadata": {},
     "output_type": "execute_result"
    }
   ],
   "source": [
    "# train model\n",
    "features = ['CustomerID', 'Product']\n",
    "target = 'NextPurchaseProduct'\n",
    "X = transactions[features]\n",
    "y = transactions[target]\n",
    "model = RandomForestClassifier()\n",
    "model.fit(X, y)\n",
    "\n"
   ]
  },
  {
   "cell_type": "code",
   "execution_count": 181,
   "id": "f5549fea",
   "metadata": {},
   "outputs": [
    {
     "data": {
      "text/html": [
       "<div>\n",
       "<style scoped>\n",
       "    .dataframe tbody tr th:only-of-type {\n",
       "        vertical-align: middle;\n",
       "    }\n",
       "\n",
       "    .dataframe tbody tr th {\n",
       "        vertical-align: top;\n",
       "    }\n",
       "\n",
       "    .dataframe thead th {\n",
       "        text-align: right;\n",
       "    }\n",
       "</style>\n",
       "<table border=\"1\" class=\"dataframe\">\n",
       "  <thead>\n",
       "    <tr style=\"text-align: right;\">\n",
       "      <th></th>\n",
       "      <th>Date</th>\n",
       "      <th>CustomerID</th>\n",
       "      <th>Product</th>\n",
       "      <th>NextPurchaseDate</th>\n",
       "      <th>NextPurchaseProduct</th>\n",
       "    </tr>\n",
       "  </thead>\n",
       "  <tbody>\n",
       "    <tr>\n",
       "      <th>21839</th>\n",
       "      <td>2022-12-27</td>\n",
       "      <td>9887648135499821</td>\n",
       "      <td>888</td>\n",
       "      <td>2022-12-27</td>\n",
       "      <td>91.0</td>\n",
       "    </tr>\n",
       "    <tr>\n",
       "      <th>21840</th>\n",
       "      <td>2022-12-27</td>\n",
       "      <td>9887648135499821</td>\n",
       "      <td>91</td>\n",
       "      <td>2022-12-27</td>\n",
       "      <td>494.0</td>\n",
       "    </tr>\n",
       "    <tr>\n",
       "      <th>21841</th>\n",
       "      <td>2022-12-27</td>\n",
       "      <td>9887648135499821</td>\n",
       "      <td>494</td>\n",
       "      <td>2022-12-27</td>\n",
       "      <td>571.0</td>\n",
       "    </tr>\n",
       "    <tr>\n",
       "      <th>21842</th>\n",
       "      <td>2022-12-27</td>\n",
       "      <td>9887648135499821</td>\n",
       "      <td>571</td>\n",
       "      <td>2022-12-27</td>\n",
       "      <td>226.0</td>\n",
       "    </tr>\n",
       "    <tr>\n",
       "      <th>21843</th>\n",
       "      <td>2022-12-27</td>\n",
       "      <td>9887648135499821</td>\n",
       "      <td>226</td>\n",
       "      <td>2022-12-27</td>\n",
       "      <td>739.0</td>\n",
       "    </tr>\n",
       "  </tbody>\n",
       "</table>\n",
       "</div>"
      ],
      "text/plain": [
       "            Date        CustomerID  Product NextPurchaseDate  \\\n",
       "21839 2022-12-27  9887648135499821      888       2022-12-27   \n",
       "21840 2022-12-27  9887648135499821       91       2022-12-27   \n",
       "21841 2022-12-27  9887648135499821      494       2022-12-27   \n",
       "21842 2022-12-27  9887648135499821      571       2022-12-27   \n",
       "21843 2022-12-27  9887648135499821      226       2022-12-27   \n",
       "\n",
       "       NextPurchaseProduct  \n",
       "21839                 91.0  \n",
       "21840                494.0  \n",
       "21841                571.0  \n",
       "21842                226.0  \n",
       "21843                739.0  "
      ]
     },
     "execution_count": 181,
     "metadata": {},
     "output_type": "execute_result"
    }
   ],
   "source": [
    "customer_id = '9887648135499821'\n",
    "customer_transactions = transactions[transactions['CustomerID'] == customer_id]\n",
    "customer_transactions.head() ### 888 means NA"
   ]
  },
  {
   "cell_type": "code",
   "execution_count": 185,
   "id": "0cb2b3b9",
   "metadata": {},
   "outputs": [
    {
     "name": "stdout",
     "output_type": "stream",
     "text": [
      "The next product for customer 9887648135499821 is 739.0 on 2022-12-28 00:00:00\n"
     ]
    }
   ],
   "source": [
    "last_product = customer_transactions['Product'].iloc[-1]\n",
    "next_date = customer_transactions['Date'].iloc[-1] + timedelta(days=1)\n",
    "next_product = model.predict([[customer_id, last_product]])[0]\n",
    "\n",
    "print(f\"The next product for customer {customer_id} is {next_product} on {next_date}\")"
   ]
  },
  {
   "cell_type": "code",
   "execution_count": 186,
   "id": "625e2c1b",
   "metadata": {},
   "outputs": [
    {
     "data": {
      "text/plain": [
       "'Side of Mild Sauce'"
      ]
     },
     "execution_count": 186,
     "metadata": {},
     "output_type": "execute_result"
    }
   ],
   "source": [
    "next_product = encoder.inverse_transform([739])[0]\n",
    "next_product"
   ]
  },
  {
   "cell_type": "code",
   "execution_count": 183,
   "id": "cee7bee6",
   "metadata": {},
   "outputs": [
    {
     "data": {
      "text/plain": [
       "'Yard Mountain Dew® Baja Blast? Twisted Freeze - Vodka'"
      ]
     },
     "execution_count": 183,
     "metadata": {},
     "output_type": "execute_result"
    }
   ],
   "source": [
    "next_product = encoder.inverse_transform([887])[0]\n",
    "next_product"
   ]
  },
  {
   "cell_type": "code",
   "execution_count": 184,
   "id": "1248903b",
   "metadata": {},
   "outputs": [],
   "source": [
    "next_product = encoder.inverse_transform([888])[0]\n",
    "next_product"
   ]
  },
  {
   "cell_type": "code",
   "execution_count": 177,
   "id": "1e8a9a84",
   "metadata": {},
   "outputs": [
    {
     "data": {
      "text/plain": [
       "'Side of Mild Sauce'"
      ]
     },
     "execution_count": 177,
     "metadata": {},
     "output_type": "execute_result"
    }
   ],
   "source": [
    "encoder.inverse_transform([int(next_product)])[0]"
   ]
  },
  {
   "cell_type": "code",
   "execution_count": 179,
   "id": "4c4d0b4f",
   "metadata": {},
   "outputs": [
    {
     "name": "stdout",
     "output_type": "stream",
     "text": [
      "The next product for customer 9887648135499821 is Side of Mild Sauce on 2022-12-28 00:00:00\n"
     ]
    }
   ],
   "source": [
    "# predict next purchase\n",
    "customer_id = '9887648135499821'\n",
    "customer_transactions = transactions[transactions['CustomerID'] == customer_id]\n",
    "\n",
    "if len(customer_transactions) > 0:\n",
    "    last_product = customer_transactions['Product'].iloc[-1]\n",
    "    next_date = customer_transactions['Date'].iloc[-1] + timedelta(days=1)\n",
    "    next_product = model.predict([[customer_id, last_product]])[0]\n",
    "    next_product = encoder.inverse_transform([int(next_product)])[0]\n",
    "    print(f\"The next product for customer {customer_id} is {next_product} on {next_date}\")\n",
    "else:\n",
    "    print(f\"No transactions found for customer {customer_id}\")"
   ]
  },
  {
   "cell_type": "code",
   "execution_count": null,
   "id": "a0c94779",
   "metadata": {},
   "outputs": [],
   "source": []
  },
  {
   "cell_type": "code",
   "execution_count": null,
   "id": "e50ecdbe",
   "metadata": {},
   "outputs": [],
   "source": []
  },
  {
   "cell_type": "code",
   "execution_count": null,
   "id": "0035e66b",
   "metadata": {},
   "outputs": [],
   "source": []
  },
  {
   "cell_type": "code",
   "execution_count": null,
   "id": "ec224bb7",
   "metadata": {},
   "outputs": [],
   "source": []
  },
  {
   "cell_type": "code",
   "execution_count": null,
   "id": "8062ca64",
   "metadata": {},
   "outputs": [],
   "source": []
  }
 ],
 "metadata": {
  "kernelspec": {
   "display_name": "Python 3 (ipykernel)",
   "language": "python",
   "name": "python3"
  },
  "language_info": {
   "codemirror_mode": {
    "name": "ipython",
    "version": 3
   },
   "file_extension": ".py",
   "mimetype": "text/x-python",
   "name": "python",
   "nbconvert_exporter": "python",
   "pygments_lexer": "ipython3",
   "version": "3.9.13"
  }
 },
 "nbformat": 4,
 "nbformat_minor": 5
}
